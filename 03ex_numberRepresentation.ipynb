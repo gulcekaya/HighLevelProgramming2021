{
 "cells": [
  {
   "cell_type": "markdown",
   "metadata": {},
   "source": [
    "1\\. Write a function that converts numbers among the bin, dec, and hex representations (bin<->dec<->hex)"
   ]
  },
  {
   "cell_type": "code",
   "execution_count": 1,
   "metadata": {},
   "outputs": [
    {
     "name": "stdout",
     "output_type": "stream",
     "text": [
      "The decimal value of 150 is:\n",
      "0b10010110 in binary.\n",
      "0x96 in hexadecimal.\n"
     ]
    }
   ],
   "source": [
    "a = 150\n",
    "\n",
    "print(\"The decimal value of\", a, \"is:\")\n",
    "print(bin(a), \"in binary.\")\n",
    "print(hex(a), \"in hexadecimal.\")\n",
    "\n"
   ]
  },
  {
   "cell_type": "markdown",
   "metadata": {},
   "source": [
    "2\\. Write a function that converts a 32 bit word into a single precision floating point (i.e. interprets the various bits as sign, mantissa and exponent) and check its validity."
   ]
  },
  {
   "cell_type": "code",
   "execution_count": 1,
   "metadata": {},
   "outputs": [
    {
     "name": "stdout",
     "output_type": "stream",
     "text": [
      "1|10000000|00100000000000000000000\n"
     ]
    }
   ],
   "source": [
    "def binaryOfPartition(partition):\n",
    "    binary = str()\n",
    "    while (partition):\n",
    "        partition *= 2\n",
    "        if (partition >= 1):\n",
    "            int_part = 1\n",
    "            partition -= 1\n",
    "        else:\n",
    "            int_part = 0\n",
    "        binary += str(int_part)\n",
    "    return binary\n",
    "def floatingPoint(real_no):\n",
    "    sign_bit = 0\n",
    "    if(real_no < 0):\n",
    "        sign_bit = 1\n",
    "    real_no = abs(real_no)\n",
    "    int_str = bin(int(real_no))[2 : ]\n",
    "    partition_str = binaryOfPartition(real_no - int(real_no))\n",
    "    ind = int_str.index('1')\n",
    "    exp_str = bin((len(int_str) - ind - 1) + 127)[2 : ]\n",
    "    mant_str = int_str[ind + 1 : ] + partition_str\n",
    "    mant_str = mant_str + ('0' * (23 - len(mant_str)))\n",
    "    return sign_bit, exp_str, mant_str\n",
    " \n",
    "\n",
    "if __name__ == \"__main__\":\n",
    "    sign_bit, exp_str, mant_str = floatingPoint(-2.250000)\n",
    " \n",
    "    float_32 = str(sign_bit) + '|' + exp_str + '|' + mant_str\n",
    " \n",
    "    print(float_32)"
   ]
  },
  {
   "cell_type": "markdown",
   "metadata": {},
   "source": [
    "3\\. Write a program to determine the underflow and overflow limits (within a factor of 2) for python on your computer. \n",
    "\n",
    "**Tip**: define two variables initialized to 1 and halve/double them for a sufficient amount of times to exceed the under/over-flow limits  "
   ]
  },
  {
   "cell_type": "code",
   "execution_count": null,
   "metadata": {},
   "outputs": [],
   "source": []
  },
  {
   "cell_type": "markdown",
   "metadata": {},
   "source": [
    "4\\. Write a program to determine the machine precision\n",
    "\n",
    "**Tip**: define a new variable by adding an increasingly smaller value (in the same way as the previous problem) and check when the addition starts to have no effect on the number"
   ]
  },
  {
   "cell_type": "code",
   "execution_count": 6,
   "metadata": {},
   "outputs": [
    {
     "name": "stdout",
     "output_type": "stream",
     "text": [
      "True\n",
      "False\n",
      "The precision found is 2.220446049250313e-16\n"
     ]
    }
   ],
   "source": [
    "precision = 1.0\n",
    "while 1 + precision != 1:\n",
    "    precision /= 2\n",
    "\n",
    "print(1 + precision == 1)\n",
    "precision *= 2\n",
    "print(1 + precision == 1)\n",
    "print(f'The precision found is {precision}')"
   ]
  },
  {
   "cell_type": "markdown",
   "metadata": {},
   "source": [
    "5\\. Write a function that takes in input three parameters $a$, $b$ and $c$ and prints out the two solutions to the quadratic equation $ax^2+bx+c=0$ using the standard formula:\n",
    "$$\n",
    "x=\\frac{-b\\pm\\sqrt{b^2-4ac}}{2a}\n",
    "$$\n",
    "\n",
    "(a) use the program to compute the solution for $a=0.001$, $b=1000$ and $c=0.001$\n",
    "\n",
    "(b) re-express the standard solution formula by multiplying the numerator and the denominator by $-b\\mp\\sqrt{b^2-4ac}$ and again find the solution for $a=0.001$, $b=1000$ and $c=0.001$. How does it compare with what has been previously obtained, and why?\n",
    "\n",
    "(c) write a function that computes the roots of a quadratic equation accurately in all cases"
   ]
  },
  {
   "cell_type": "code",
   "execution_count": 4,
   "metadata": {},
   "outputs": [
    {
     "name": "stdout",
     "output_type": "stream",
     "text": [
      "(-9.999894245993346e-07, -999999.999999)\n",
      "(-9.999894245993346e-07, -999999.9999990001)\n",
      "-1.0 -2.0\n"
     ]
    }
   ],
   "source": [
    "import math\n",
    "\n",
    "#5a\n",
    "\n",
    "def myFunc1(a,b,c):\n",
    "    x=(-b+math.sqrt(pow(b,2)-(4*a*c)))/(2*a)\n",
    "    y=(-b-math.sqrt(pow(b,2)-(4*a*c)))/(2*a)\n",
    "    return x,y\n",
    "print(myFunc1(.001,1000,.001))\n",
    "\n",
    "#5b\n",
    "\n",
    "def myFunc2(a,b,c):\n",
    "    x=((-b+math.sqrt(pow(b,2)-(4*a*c)))*(-b-math.sqrt(pow(b,2)-(4*a*c))))/((2*a)*(-b-math.sqrt(pow(b,2)-(4*a*c))))\n",
    "    y=((-b-math.sqrt(pow(b,2)-(4*a*c)))*(-b+math.sqrt(pow(b,2)-(4*a*c))))/((2*a)*(-b+math.sqrt(pow(b,2)-(4*a*c))))\n",
    "    return x,y\n",
    "print(myFunc2(.001,1000,.001))\n",
    "\n",
    "\n",
    "#5c\n",
    "   \n",
    "def solution_allcases(a,b,c):\n",
    "    delta=(b*b)-(4*a*c)\n",
    "    delta_sqrt=math.sqrt(abs((b*b)-(4*a*c)))\n",
    "    if a==0: \n",
    "        print(\"Error: it's not a quadratic equation\")\n",
    "        return \n",
    "    if delta > 0:\n",
    "        sol1=(-b+delta_sqrt)/(2*a) \n",
    "        sol2=(-b-delta_sqrt)/(2*a)\n",
    "        print(sol1,sol2)\n",
    "    if delta == 0:\n",
    "        print(\"The two solution are the same: \", (-b)/(2*a))\n",
    "    if delta < 0:\n",
    "        print((-b/(2*a)), \"+\", (delta_sqrt/2*a),\"i\")\n",
    "        print((-b/(2*a)), \"-\", (delta_sqrt/2*a),\"i\")\n",
    "            \n",
    "solution_allcases(1,3,2)"
   ]
  },
  {
   "cell_type": "markdown",
   "metadata": {},
   "source": [
    "6\\. Write a program that implements the function $f(x)=x(x−1)$\n",
    "\n",
    "(a) Calculate the derivative of the function at the point $x = 1$ using the derivative definition:\n",
    "\n",
    "$$\n",
    "\\frac{{\\rm d}f}{{\\rm d}x} = \\lim_{\\delta\\to0} \\frac{f(x+\\delta)-f(x)}{\\delta}\n",
    "$$\n",
    "\n",
    "with $\\delta = 10^{−2}$. Calculate the true value of the same derivative analytically and compare it with the answer your program gives. The two will not agree perfectly. Why?\n",
    "\n",
    "(b) Repeat the calculation for $\\delta = 10^{−4}, 10^{−6}, 10^{−8}, 10^{−10}, 10^{−12}$ and $10^{−14}$. How does the accuracy scales with $\\delta$?"
   ]
  },
  {
   "cell_type": "code",
   "execution_count": null,
   "metadata": {},
   "outputs": [],
   "source": []
  },
  {
   "cell_type": "markdown",
   "metadata": {},
   "source": [
    "7\\. Consider the integral of the semicircle of radius 1:\n",
    "$$\n",
    "I=\\int_{-1}^{1} \\sqrt(1-x^2) {\\rm d}x\n",
    "$$\n",
    "which is known to be $I=\\frac{\\pi}{2}=1.57079632679...$.\n",
    "\n",
    "Alternatively we can use the Riemann definition of the integral:\n",
    "$$\n",
    "I=\\lim_{N\\to\\infty} \\sum_{k=1}^{N} h y_k \n",
    "$$\n",
    "\n",
    "with $h=2/N$ the width of each of the $N$ slices the domain is divided into and where\n",
    "$y_k$ is the value of the function at the $k-$th slice.\n",
    "\n",
    "(a) Write a program to compute the integral with $N=100$. How does the result compare to the true value?\n",
    "\n",
    "(b) How much can $N$ be increased if the computation needs to be run in less than a second? What is the gain in running it for 1 minute? \n"
   ]
  },
  {
   "cell_type": "code",
   "execution_count": null,
   "metadata": {},
   "outputs": [],
   "source": []
  }
 ],
 "metadata": {
  "kernelspec": {
   "display_name": "Python 3",
   "language": "python",
   "name": "python3"
  },
  "language_info": {
   "codemirror_mode": {
    "name": "ipython",
    "version": 3
   },
   "file_extension": ".py",
   "mimetype": "text/x-python",
   "name": "python",
   "nbconvert_exporter": "python",
   "pygments_lexer": "ipython3",
   "version": "3.8.8"
  }
 },
 "nbformat": 4,
 "nbformat_minor": 2
}
